{
 "cells": [
  {
   "cell_type": "code",
   "execution_count": 1,
   "source": [
    "import nltk"
   ],
   "outputs": [],
   "metadata": {}
  },
  {
   "cell_type": "markdown",
   "source": [
    "# Abrindo Artigo com palavras para alimentar o corretor"
   ],
   "metadata": {}
  },
  {
   "cell_type": "code",
   "execution_count": 2,
   "source": [
    "with open(\"corretor-master/artigos.txt\",\"r\", encoding=\"utf8\") as f:\r\n",
    "    artigos = f.read()\r\n",
    "    \r\n",
    "print(artigos[:500])"
   ],
   "outputs": [
    {
     "output_type": "stream",
     "name": "stdout",
     "text": [
      "\n",
      "\n",
      "\n",
      "imagem \n",
      "\n",
      "Temos a seguinte classe que representa um usuário no nosso sistema:\n",
      "\n",
      "java\n",
      "\n",
      "Para salvar um novo usuário, várias validações são feitas, como por exemplo: Ver se o nome só contém letras, [**o CPF só números**] e ver se o usuário possui no mínimo 18 anos. Veja o método que faz essa validação:\n",
      "\n",
      "java \n",
      "\n",
      "Suponha agora que eu tenha outra classe, a classe `Produto`, que contém um atributo nome e eu quero fazer a mesma validação que fiz para o nome do usuário: Ver se só contém letras. E aí? Vou\n"
     ]
    }
   ],
   "metadata": {}
  },
  {
   "cell_type": "code",
   "execution_count": 3,
   "source": [
    "len(artigos)"
   ],
   "outputs": [
    {
     "output_type": "execute_result",
     "data": {
      "text/plain": [
       "2605046"
      ]
     },
     "metadata": {},
     "execution_count": 3
    }
   ],
   "metadata": {}
  },
  {
   "cell_type": "code",
   "execution_count": 4,
   "source": [
    "len(\"Olá\")"
   ],
   "outputs": [
    {
     "output_type": "execute_result",
     "data": {
      "text/plain": [
       "3"
      ]
     },
     "metadata": {},
     "execution_count": 4
    }
   ],
   "metadata": {}
  },
  {
   "cell_type": "code",
   "execution_count": 5,
   "source": [
    "texto_exemplo = \"Hello dev world, tudo bem?\"\r\n",
    "tokens = texto_exemplo.split()"
   ],
   "outputs": [],
   "metadata": {}
  },
  {
   "cell_type": "code",
   "execution_count": 6,
   "source": [
    "print(tokens)"
   ],
   "outputs": [
    {
     "output_type": "stream",
     "name": "stdout",
     "text": [
      "['Hello', 'dev', 'world,', 'tudo', 'bem?']\n"
     ]
    }
   ],
   "metadata": {}
  },
  {
   "cell_type": "code",
   "execution_count": 7,
   "source": [
    "print(len(tokens))"
   ],
   "outputs": [
    {
     "output_type": "stream",
     "name": "stdout",
     "text": [
      "5\n"
     ]
    }
   ],
   "metadata": {}
  },
  {
   "cell_type": "code",
   "execution_count": 8,
   "source": [
    "palavras_separadas = nltk.tokenize.word_tokenize(texto_exemplo)\r\n",
    "print(palavras_separadas)"
   ],
   "outputs": [
    {
     "output_type": "stream",
     "name": "stdout",
     "text": [
      "['Hello', 'dev', 'world', ',', 'tudo', 'bem', '?']\n"
     ]
    }
   ],
   "metadata": {}
  },
  {
   "cell_type": "code",
   "execution_count": 9,
   "source": [
    "len(palavras_separadas)"
   ],
   "outputs": [
    {
     "output_type": "execute_result",
     "data": {
      "text/plain": [
       "7"
      ]
     },
     "metadata": {},
     "execution_count": 9
    }
   ],
   "metadata": {}
  },
  {
   "cell_type": "code",
   "execution_count": 10,
   "source": [
    "'palavra'.isalpha()"
   ],
   "outputs": [
    {
     "output_type": "execute_result",
     "data": {
      "text/plain": [
       "True"
      ]
     },
     "metadata": {},
     "execution_count": 10
    }
   ],
   "metadata": {}
  },
  {
   "cell_type": "code",
   "execution_count": 11,
   "source": [
    "'palavra?'.isalpha()"
   ],
   "outputs": [
    {
     "output_type": "execute_result",
     "data": {
      "text/plain": [
       "False"
      ]
     },
     "metadata": {},
     "execution_count": 11
    }
   ],
   "metadata": {}
  },
  {
   "cell_type": "code",
   "execution_count": 12,
   "source": [
    "def separa_palavras(lista_tokens):\r\n",
    "    lista_palavras = []\r\n",
    "    for token in lista_tokens:\r\n",
    "        if token.isalpha():\r\n",
    "            lista_palavras.append(token)\r\n",
    "    return lista_palavras\r\n",
    "\r\n",
    "separa_palavras(palavras_separadas)"
   ],
   "outputs": [
    {
     "output_type": "execute_result",
     "data": {
      "text/plain": [
       "['Hello', 'dev', 'world', 'tudo', 'bem']"
      ]
     },
     "metadata": {},
     "execution_count": 12
    }
   ],
   "metadata": {}
  },
  {
   "cell_type": "markdown",
   "source": [
    "# Gerando lista de tokens com palavras dos artigo"
   ],
   "metadata": {}
  },
  {
   "cell_type": "code",
   "execution_count": 13,
   "source": [
    "lista_tokens = nltk.tokenize.word_tokenize(artigos)\r\n",
    "lista_palavras = separa_palavras(lista_tokens)"
   ],
   "outputs": [],
   "metadata": {}
  },
  {
   "cell_type": "code",
   "execution_count": 14,
   "source": [
    "print(f'O número de palavras é {len(lista_palavras)}')"
   ],
   "outputs": [
    {
     "output_type": "stream",
     "name": "stdout",
     "text": [
      "O número de palavras é 403104\n"
     ]
    }
   ],
   "metadata": {}
  },
  {
   "cell_type": "code",
   "execution_count": 15,
   "source": [
    "print(lista_palavras[:5])"
   ],
   "outputs": [
    {
     "output_type": "stream",
     "name": "stdout",
     "text": [
      "['imagem', 'Temos', 'a', 'seguinte', 'classe']\n"
     ]
    }
   ],
   "metadata": {}
  },
  {
   "cell_type": "markdown",
   "source": [
    "# Normalizando artigos"
   ],
   "metadata": {}
  },
  {
   "cell_type": "code",
   "execution_count": 16,
   "source": [
    "def normalizacao(lista_palavras):\r\n",
    "    lista_normalizada = []\r\n",
    "    for palavra in lista_palavras:\r\n",
    "        lista_normalizada.append(palavra.lower())\r\n",
    "    return lista_normalizada\r\n",
    "\r\n",
    "palavras_normalizada = normalizacao(lista_palavras)\r\n",
    "print(palavras_normalizada[:5])"
   ],
   "outputs": [
    {
     "output_type": "stream",
     "name": "stdout",
     "text": [
      "['imagem', 'temos', 'a', 'seguinte', 'classe']\n"
     ]
    }
   ],
   "metadata": {}
  },
  {
   "cell_type": "code",
   "execution_count": 17,
   "source": [
    "len(set(lista_palavras))"
   ],
   "outputs": [
    {
     "output_type": "execute_result",
     "data": {
      "text/plain": [
       "21497"
      ]
     },
     "metadata": {},
     "execution_count": 17
    }
   ],
   "metadata": {}
  },
  {
   "cell_type": "markdown",
   "source": [
    "# Gerando palavras a partir de várias combinações"
   ],
   "metadata": {}
  },
  {
   "cell_type": "code",
   "execution_count": 18,
   "source": [
    "palavra_exemplo = 'lgica'\r\n",
    "\r\n",
    "def insere_letras(fatias):\r\n",
    "    novas_palavras = []\r\n",
    "    letras = 'abcdefghijklmnopqrstuvwxyzàáâãèéêìíîòóôõùúûç'\r\n",
    "    for E, D in fatias:   \r\n",
    "        for letra in letras:\r\n",
    "            novas_palavras.append(E + letra + D)\r\n",
    "    return novas_palavras\r\n",
    "\r\n",
    "def gerador_palavras(palavra):\r\n",
    "    fatias = []\r\n",
    "    for i in range(len(palavra)+1):\r\n",
    "        fatias.append((palavra[:i],palavra[i:]))\r\n",
    "    palavras_geradas = insere_letras(fatias)\r\n",
    "    return palavras_geradas\r\n",
    "    \r\n",
    "palavras_geradas = gerador_palavras(palavra_exemplo)\r\n",
    "print(palavras_geradas)"
   ],
   "outputs": [
    {
     "output_type": "stream",
     "name": "stdout",
     "text": [
      "['algica', 'blgica', 'clgica', 'dlgica', 'elgica', 'flgica', 'glgica', 'hlgica', 'ilgica', 'jlgica', 'klgica', 'llgica', 'mlgica', 'nlgica', 'olgica', 'plgica', 'qlgica', 'rlgica', 'slgica', 'tlgica', 'ulgica', 'vlgica', 'wlgica', 'xlgica', 'ylgica', 'zlgica', 'àlgica', 'álgica', 'âlgica', 'ãlgica', 'èlgica', 'élgica', 'êlgica', 'ìlgica', 'ílgica', 'îlgica', 'òlgica', 'ólgica', 'ôlgica', 'õlgica', 'ùlgica', 'úlgica', 'ûlgica', 'çlgica', 'lagica', 'lbgica', 'lcgica', 'ldgica', 'legica', 'lfgica', 'lggica', 'lhgica', 'ligica', 'ljgica', 'lkgica', 'llgica', 'lmgica', 'lngica', 'logica', 'lpgica', 'lqgica', 'lrgica', 'lsgica', 'ltgica', 'lugica', 'lvgica', 'lwgica', 'lxgica', 'lygica', 'lzgica', 'làgica', 'lágica', 'lâgica', 'lãgica', 'lègica', 'légica', 'lêgica', 'lìgica', 'lígica', 'lîgica', 'lògica', 'lógica', 'lôgica', 'lõgica', 'lùgica', 'lúgica', 'lûgica', 'lçgica', 'lgaica', 'lgbica', 'lgcica', 'lgdica', 'lgeica', 'lgfica', 'lggica', 'lghica', 'lgiica', 'lgjica', 'lgkica', 'lglica', 'lgmica', 'lgnica', 'lgoica', 'lgpica', 'lgqica', 'lgrica', 'lgsica', 'lgtica', 'lguica', 'lgvica', 'lgwica', 'lgxica', 'lgyica', 'lgzica', 'lgàica', 'lgáica', 'lgâica', 'lgãica', 'lgèica', 'lgéica', 'lgêica', 'lgìica', 'lgíica', 'lgîica', 'lgòica', 'lgóica', 'lgôica', 'lgõica', 'lgùica', 'lgúica', 'lgûica', 'lgçica', 'lgiaca', 'lgibca', 'lgicca', 'lgidca', 'lgieca', 'lgifca', 'lgigca', 'lgihca', 'lgiica', 'lgijca', 'lgikca', 'lgilca', 'lgimca', 'lginca', 'lgioca', 'lgipca', 'lgiqca', 'lgirca', 'lgisca', 'lgitca', 'lgiuca', 'lgivca', 'lgiwca', 'lgixca', 'lgiyca', 'lgizca', 'lgiàca', 'lgiáca', 'lgiâca', 'lgiãca', 'lgièca', 'lgiéca', 'lgiêca', 'lgiìca', 'lgiíca', 'lgiîca', 'lgiòca', 'lgióca', 'lgiôca', 'lgiõca', 'lgiùca', 'lgiúca', 'lgiûca', 'lgiçca', 'lgicaa', 'lgicba', 'lgicca', 'lgicda', 'lgicea', 'lgicfa', 'lgicga', 'lgicha', 'lgicia', 'lgicja', 'lgicka', 'lgicla', 'lgicma', 'lgicna', 'lgicoa', 'lgicpa', 'lgicqa', 'lgicra', 'lgicsa', 'lgicta', 'lgicua', 'lgicva', 'lgicwa', 'lgicxa', 'lgicya', 'lgicza', 'lgicàa', 'lgicáa', 'lgicâa', 'lgicãa', 'lgicèa', 'lgicéa', 'lgicêa', 'lgicìa', 'lgicía', 'lgicîa', 'lgicòa', 'lgicóa', 'lgicôa', 'lgicõa', 'lgicùa', 'lgicúa', 'lgicûa', 'lgicça', 'lgicaa', 'lgicab', 'lgicac', 'lgicad', 'lgicae', 'lgicaf', 'lgicag', 'lgicah', 'lgicai', 'lgicaj', 'lgicak', 'lgical', 'lgicam', 'lgican', 'lgicao', 'lgicap', 'lgicaq', 'lgicar', 'lgicas', 'lgicat', 'lgicau', 'lgicav', 'lgicaw', 'lgicax', 'lgicay', 'lgicaz', 'lgicaà', 'lgicaá', 'lgicaâ', 'lgicaã', 'lgicaè', 'lgicaé', 'lgicaê', 'lgicaì', 'lgicaí', 'lgicaî', 'lgicaò', 'lgicaó', 'lgicaô', 'lgicaõ', 'lgicaù', 'lgicaú', 'lgicaû', 'lgicaç']\n"
     ]
    }
   ],
   "metadata": {}
  },
  {
   "cell_type": "markdown",
   "source": [
    "# Retornando a palavrar correta"
   ],
   "metadata": {}
  },
  {
   "cell_type": "code",
   "execution_count": 19,
   "source": [
    "def corretor(palavra):\r\n",
    "    palavras_geradas = gerador_palavras(palavra)\r\n",
    "    palavra_correta = max(palavras_geradas, key=probabilidade)\r\n",
    "    return palavra_correta"
   ],
   "outputs": [],
   "metadata": {}
  },
  {
   "cell_type": "code",
   "execution_count": 20,
   "source": [
    "frequencia = nltk.FreqDist(palavras_normalizada)\r\n",
    "total_palavras = len(palavras_normalizada)\r\n",
    "frequencia.most_common(5)"
   ],
   "outputs": [
    {
     "output_type": "execute_result",
     "data": {
      "text/plain": [
       "[('de', 15502), ('o', 14056), ('que', 12230), ('a', 11099), ('e', 10501)]"
      ]
     },
     "metadata": {},
     "execution_count": 20
    }
   ],
   "metadata": {}
  },
  {
   "cell_type": "code",
   "execution_count": 21,
   "source": [
    "def probabilidade(palavra_gerada):\r\n",
    "    total_palavras = len(palavras_normalizada)\r\n",
    "    return frequencia[palavra_gerada]/total_palavras\r\n",
    "\r\n",
    "probabilidade(\"lógica\")"
   ],
   "outputs": [
    {
     "output_type": "execute_result",
     "data": {
      "text/plain": [
       "0.00023815194093831864"
      ]
     },
     "metadata": {},
     "execution_count": 21
    }
   ],
   "metadata": {}
  },
  {
   "cell_type": "code",
   "execution_count": 22,
   "source": [
    "corretor(palavra_exemplo)"
   ],
   "outputs": [
    {
     "output_type": "execute_result",
     "data": {
      "text/plain": [
       "'lógica'"
      ]
     },
     "metadata": {},
     "execution_count": 22
    }
   ],
   "metadata": {}
  },
  {
   "cell_type": "markdown",
   "source": [
    "# Testando corretor"
   ],
   "metadata": {}
  },
  {
   "cell_type": "code",
   "execution_count": 23,
   "source": [
    "def cria_dados_teste(nome_arquivo):\r\n",
    "    lista_palavras_teste = []\r\n",
    "    f = open(nome_arquivo, \"r\", encoding='UTF-8')\r\n",
    "    for linha in f:\r\n",
    "        correta, errada = linha.split()\r\n",
    "        lista_palavras_teste.append((correta, errada))\r\n",
    "    f.close()\r\n",
    "    return lista_palavras_teste\r\n",
    "        \r\n",
    "lista_teste = cria_dados_teste(\"corretor-master/palavras.txt\")       \r\n",
    "print(lista_teste)"
   ],
   "outputs": [
    {
     "output_type": "stream",
     "name": "stdout",
     "text": [
      "[('podemos', 'pyodemos'), ('esse', 'esje'), ('já', 'jrá'), ('nosso', 'nossov'), ('são', 'sãêo'), ('dos', 'dosa'), ('muito', 'muifo'), ('imagem', 'iômagem'), ('sua', 'ósua'), ('também', 'tambéùm'), ('ele', 'eme'), ('fazer', 'èazer'), ('temos', 'temfs'), ('essa', 'eàssa'), ('quando', 'quaôdo'), ('vamos', 'vamvos'), ('sobre', 'hsobre'), ('java', 'sjava'), ('das', 'daõs'), ('agora', 'agorah'), ('está', 'eòtá'), ('cada', 'céda'), ('mesmo', 'zmesmo'), ('nos', 'noâ'), ('forma', 'fobma'), ('seja', 'sejéa'), ('então', 'enêão'), ('criar', 'èriar'), ('código', 'cóeigo'), ('caso', 'casío'), ('exemplo', 'áexemplo'), ('tem', 'tĩem'), ('usuário', 'usuárôio'), ('dados', 'dfados'), ('python', 'pgthon'), ('nossa', 'nossah'), ('além', 'alémè'), ('assim', 'asõim'), ('ter', 'teb'), ('até', 'atĩ'), ('bem', 'âem'), ('design', 'desigen'), ('trabalho', 'trabalàho'), ('foi', 'foo'), ('apenas', 'apenaũ'), ('empresa', 'empresà'), ('valor', 'valíor'), ('será', 'serr'), ('entre', 'entke'), ('método', 'méqodo'), ('precisamos', 'precisamops'), ('ainda', 'ainàa'), ('vai', 'van'), ('conteúdo', 'ûconteúdo'), ('seus', 'çeus'), ('eu', 'eû'), ('todos', 'todtos'), ('tempo', 'temeo'), ('sempre', 'semre'), ('qual', 'quakl'), ('ela', 'elaá'), ('só', 'síó'), ('utilizar', 'utiqizar'), ('projeto', 'prhojeto'), ('site', 'siàe'), ('sem', 'seém'), ('pelo', 'peln'), ('alura', 'aléra'), ('dia', 'tdia'), ('tudo', 'tuúo'), ('podemos', 'kpodemos'), ('esse', 'eẽsse'), ('já', 'jé'), ('nosso', 'nçosso'), ('são', 'sãô'), ('dos', 'odos'), ('muito', 'tuito'), ('imagem', 'imõgem'), ('sua', 'siua'), ('também', 'tamvbém'), ('ele', 'elpe'), ('fazer', 'façzer'), ('temos', 'teos'), ('essa', 'eũsa'), ('quando', 'quaìdo'), ('vamos', 'vjmos'), ('sobre', 'sxobre'), ('java', 'jkva'), ('das', 'dms'), ('agora', 'agtora'), ('está', 'esútá'), ('cada', 'cava'), ('mesmo', 'medmo'), ('nos', 'ános'), ('forma', 'forûa'), ('seja', 'smeja'), ('então', 'enjtão'), ('criar', 'criôar'), ('código', 'cóàigo'), ('caso', 'èaso'), ('exemplo', 'exbemplo'), ('tem', 'túem'), ('usuário', 'usuárin'), ('dados', 'daáos'), ('python', 'pythoçn'), ('nossa', 'nossk'), ('além', 'âlém'), ('assim', 'aóssim'), ('ter', 'tãer'), ('até', 'vté'), ('bem', 'búm'), ('design', 'íesign'), ('trabalho', 'trabèalho'), ('foi', 'kfoi'), ('apenas', 'aapenas'), ('empresa', 'pmpresa'), ('valor', 'valoqr'), ('será', 'sçerá'), ('entre', 'entró'), ('método', 'nétodo'), ('precisamos', 'prefcisamos'), ('ainda', 'sainda'), ('vai', 'uai'), ('conteúdo', 'cĩonteúdo'), ('seus', 'sâus'), ('eu', 'ìeu'), ('todos', 'todás'), ('tempo', 'utempo'), ('sempre', 'sempce'), ('qual', 'fual'), ('ela', 'elal'), ('só', 'skó'), ('utilizar', 'utilĩzar'), ('projeto', 'proójeto'), ('site', 'isite'), ('sem', 'secm'), ('pelo', 'pẽlo'), ('alura', 'aluéa'), ('dia', 'dil'), ('tudo', 'tudy'), ('ela', 'qelay'), ('só', 'sód'), ('utilizar', 'dtilizacr'), ('projeto', 'bprojõto'), ('site', 'ysiteo'), ('sem', 'sõêm'), ('pelo', 'peàli'), ('alura', 'asuraó'), ('dia', 'deiìa'), ('tudo', 'tuĩdoì'), ('ela', 'eúaa'), ('só', 'ró'), ('utilizar', 'utilizẽaçr'), ('projeto', 'prêjetó'), ('site', 'sqiqte'), ('sem', 'sũexm'), ('pelo', 'pçlxo'), ('alura', 'uluraa'), ('dia', 'dĩaz'), ('tudo', 'kzudo'), ('corretor', 'correptor'), ('tática', 'trtica'), ('empoderamento', 'ewpoderamento'), ('linux', 'lifux'), ('cachorro', 'cachoçro'), ('gato', 'îgato'), ('cavalo', 'cakvalo'), ('relógio', 'relógiuo'), ('canela', 'canelac'), ('tênis', 'tênisy'), ('ansiosa', 'anciosa'), ('ansiosa', 'ancciosa'), ('ansiosa', 'ansioa'), ('empoderamento', 'empoderamento'), ('asterisco', 'asterístico'), ('gratuito', 'gratuíto'), ('entretido', 'entertido'), ('ritmo', 'ritimo'), ('idiota', 'indiota'), ('tomara', 'tomare'), ('seja', 'seje'), ('prevalecer', 'provalecer'), ('esteja', 'esteje'), ('mendigo', 'mindigo'), ('cérebro', 'célebro'), ('perturbar', 'pertubar')]\n"
     ]
    }
   ],
   "metadata": {}
  },
  {
   "cell_type": "code",
   "execution_count": 24,
   "source": [
    "def avaliador(testes):\r\n",
    "    numero_palavras = len(testes)\r\n",
    "    acertou = 0\r\n",
    "    for correta, errada in testes:\r\n",
    "        palavra_corrigida = corretor(errada)\r\n",
    "        if palavra_corrigida == correta:\r\n",
    "            acertou+=1\r\n",
    "    \r\n",
    "    taxa_acerto = acertou/numero_palavras\r\n",
    "    print(f\"taxa de acerto: {round(taxa_acerto * 100,2)}% de acertos em um total de {numero_palavras} palavras\")\r\n",
    "\r\n",
    "avaliador(lista_teste)"
   ],
   "outputs": [
    {
     "output_type": "stream",
     "name": "stdout",
     "text": [
      "taxa de acerto: 1.08% de acertos em um total de 186 palavras\n"
     ]
    }
   ],
   "metadata": {}
  },
  {
   "cell_type": "code",
   "execution_count": 25,
   "source": [
    "def deletando_caracteres(fatias):\r\n",
    "    novas_palavras = []\r\n",
    "    for E, D in fatias:\r\n",
    "        novas_palavras.append(E+D[1:])\r\n",
    "    return novas_palavras"
   ],
   "outputs": [],
   "metadata": {}
  },
  {
   "cell_type": "code",
   "execution_count": 26,
   "source": [
    "'palavras'[1:]"
   ],
   "outputs": [
    {
     "output_type": "execute_result",
     "data": {
      "text/plain": [
       "'alavras'"
      ]
     },
     "metadata": {},
     "execution_count": 26
    }
   ],
   "metadata": {}
  },
  {
   "cell_type": "code",
   "execution_count": 27,
   "source": [
    "corretor(\"lóigica\")"
   ],
   "outputs": [
    {
     "output_type": "execute_result",
     "data": {
      "text/plain": [
       "'alóigica'"
      ]
     },
     "metadata": {},
     "execution_count": 27
    }
   ],
   "metadata": {}
  },
  {
   "cell_type": "code",
   "execution_count": 28,
   "source": [
    "def gerador_palavras(palavra):\r\n",
    "    fatias = []\r\n",
    "    for i in range(len(palavra)+1):\r\n",
    "        fatias.append((palavra[:i],palavra[i:]))\r\n",
    "    palavras_geradas = insere_letras(fatias)\r\n",
    "    palavras_geradas += deletando_caracteres(fatias)\r\n",
    "    return palavras_geradas\r\n",
    "\r\n",
    "palavras_exemplo = 'lóigica'\r\n",
    "palavras_geradas = gerador_palavras(palavra_exemplo)\r\n",
    "print(palavras_geradas)"
   ],
   "outputs": [
    {
     "output_type": "stream",
     "name": "stdout",
     "text": [
      "['algica', 'blgica', 'clgica', 'dlgica', 'elgica', 'flgica', 'glgica', 'hlgica', 'ilgica', 'jlgica', 'klgica', 'llgica', 'mlgica', 'nlgica', 'olgica', 'plgica', 'qlgica', 'rlgica', 'slgica', 'tlgica', 'ulgica', 'vlgica', 'wlgica', 'xlgica', 'ylgica', 'zlgica', 'àlgica', 'álgica', 'âlgica', 'ãlgica', 'èlgica', 'élgica', 'êlgica', 'ìlgica', 'ílgica', 'îlgica', 'òlgica', 'ólgica', 'ôlgica', 'õlgica', 'ùlgica', 'úlgica', 'ûlgica', 'çlgica', 'lagica', 'lbgica', 'lcgica', 'ldgica', 'legica', 'lfgica', 'lggica', 'lhgica', 'ligica', 'ljgica', 'lkgica', 'llgica', 'lmgica', 'lngica', 'logica', 'lpgica', 'lqgica', 'lrgica', 'lsgica', 'ltgica', 'lugica', 'lvgica', 'lwgica', 'lxgica', 'lygica', 'lzgica', 'làgica', 'lágica', 'lâgica', 'lãgica', 'lègica', 'légica', 'lêgica', 'lìgica', 'lígica', 'lîgica', 'lògica', 'lógica', 'lôgica', 'lõgica', 'lùgica', 'lúgica', 'lûgica', 'lçgica', 'lgaica', 'lgbica', 'lgcica', 'lgdica', 'lgeica', 'lgfica', 'lggica', 'lghica', 'lgiica', 'lgjica', 'lgkica', 'lglica', 'lgmica', 'lgnica', 'lgoica', 'lgpica', 'lgqica', 'lgrica', 'lgsica', 'lgtica', 'lguica', 'lgvica', 'lgwica', 'lgxica', 'lgyica', 'lgzica', 'lgàica', 'lgáica', 'lgâica', 'lgãica', 'lgèica', 'lgéica', 'lgêica', 'lgìica', 'lgíica', 'lgîica', 'lgòica', 'lgóica', 'lgôica', 'lgõica', 'lgùica', 'lgúica', 'lgûica', 'lgçica', 'lgiaca', 'lgibca', 'lgicca', 'lgidca', 'lgieca', 'lgifca', 'lgigca', 'lgihca', 'lgiica', 'lgijca', 'lgikca', 'lgilca', 'lgimca', 'lginca', 'lgioca', 'lgipca', 'lgiqca', 'lgirca', 'lgisca', 'lgitca', 'lgiuca', 'lgivca', 'lgiwca', 'lgixca', 'lgiyca', 'lgizca', 'lgiàca', 'lgiáca', 'lgiâca', 'lgiãca', 'lgièca', 'lgiéca', 'lgiêca', 'lgiìca', 'lgiíca', 'lgiîca', 'lgiòca', 'lgióca', 'lgiôca', 'lgiõca', 'lgiùca', 'lgiúca', 'lgiûca', 'lgiçca', 'lgicaa', 'lgicba', 'lgicca', 'lgicda', 'lgicea', 'lgicfa', 'lgicga', 'lgicha', 'lgicia', 'lgicja', 'lgicka', 'lgicla', 'lgicma', 'lgicna', 'lgicoa', 'lgicpa', 'lgicqa', 'lgicra', 'lgicsa', 'lgicta', 'lgicua', 'lgicva', 'lgicwa', 'lgicxa', 'lgicya', 'lgicza', 'lgicàa', 'lgicáa', 'lgicâa', 'lgicãa', 'lgicèa', 'lgicéa', 'lgicêa', 'lgicìa', 'lgicía', 'lgicîa', 'lgicòa', 'lgicóa', 'lgicôa', 'lgicõa', 'lgicùa', 'lgicúa', 'lgicûa', 'lgicça', 'lgicaa', 'lgicab', 'lgicac', 'lgicad', 'lgicae', 'lgicaf', 'lgicag', 'lgicah', 'lgicai', 'lgicaj', 'lgicak', 'lgical', 'lgicam', 'lgican', 'lgicao', 'lgicap', 'lgicaq', 'lgicar', 'lgicas', 'lgicat', 'lgicau', 'lgicav', 'lgicaw', 'lgicax', 'lgicay', 'lgicaz', 'lgicaà', 'lgicaá', 'lgicaâ', 'lgicaã', 'lgicaè', 'lgicaé', 'lgicaê', 'lgicaì', 'lgicaí', 'lgicaî', 'lgicaò', 'lgicaó', 'lgicaô', 'lgicaõ', 'lgicaù', 'lgicaú', 'lgicaû', 'lgicaç', 'gica', 'lica', 'lgca', 'lgia', 'lgic', 'lgica']\n"
     ]
    }
   ],
   "metadata": {}
  },
  {
   "cell_type": "code",
   "execution_count": 29,
   "source": [
    "avaliador(lista_teste)"
   ],
   "outputs": [
    {
     "output_type": "stream",
     "name": "stdout",
     "text": [
      "taxa de acerto: 41.4% de acertos em um total de 186 palavras\n"
     ]
    }
   ],
   "metadata": {}
  },
  {
   "cell_type": "code",
   "execution_count": 30,
   "source": [
    "def insere_letras(fatias):\r\n",
    "    novas_palavras = []\r\n",
    "    letras = 'abcdefghijklmnopqrstuvwxyzàáâãèéêìíîòóôõùúûç'\r\n",
    "    for E, D in fatias:   \r\n",
    "        for letra in letras:\r\n",
    "            novas_palavras.append(E + letra + D)\r\n",
    "    return novas_palavras\r\n",
    "\r\n",
    "def deletando_caracteres(fatias):\r\n",
    "    novas_palavras = []\r\n",
    "    for E, D in fatias:\r\n",
    "        novas_palavras.append(E+D[1:])\r\n",
    "    return novas_palavras\r\n",
    "\r\n",
    "def troca_letra(fatias):\r\n",
    "    novas_palavras = []\r\n",
    "    letras = 'abcdefghijklmnopqrstuvwxyzàáâãèéêìíîòóôõùúûç'\r\n",
    "    for E, D in fatias:   \r\n",
    "        for letra in letras:\r\n",
    "            novas_palavras.append(E + letra + D[1:])\r\n",
    "    return novas_palavras\r\n",
    "\r\n",
    "def inverte_letras(fatias):\r\n",
    "    novas_palavras = []\r\n",
    "    for E, D in fatias:\r\n",
    "        if len(D)>1:\r\n",
    "            novas_palavras.append(E+D[1]+D[0]+D[2:])\r\n",
    "    return novas_palavras\r\n",
    "\r\n",
    "def gerador_palavras(palavra):\r\n",
    "    fatias = []\r\n",
    "    for i in range(len(palavra)+1):\r\n",
    "        fatias.append((palavra[:i],palavra[i:]))\r\n",
    "    palavras_geradas = insere_letras(fatias)\r\n",
    "    palavras_geradas += deletando_caracteres(fatias)\r\n",
    "    palavras_geradas += troca_letra(fatias)\r\n",
    "    palavras_geradas += inverte_letras(fatias)\r\n",
    "    return palavras_geradas\r\n",
    "\r\n",
    "\r\n",
    "\r\n",
    "palavras_exemplo = 'lgóica'\r\n",
    "palavras_geradas = gerador_palavras(palavra_exemplo)\r\n",
    "print(palavras_geradas)"
   ],
   "outputs": [
    {
     "output_type": "stream",
     "name": "stdout",
     "text": [
      "['algica', 'blgica', 'clgica', 'dlgica', 'elgica', 'flgica', 'glgica', 'hlgica', 'ilgica', 'jlgica', 'klgica', 'llgica', 'mlgica', 'nlgica', 'olgica', 'plgica', 'qlgica', 'rlgica', 'slgica', 'tlgica', 'ulgica', 'vlgica', 'wlgica', 'xlgica', 'ylgica', 'zlgica', 'àlgica', 'álgica', 'âlgica', 'ãlgica', 'èlgica', 'élgica', 'êlgica', 'ìlgica', 'ílgica', 'îlgica', 'òlgica', 'ólgica', 'ôlgica', 'õlgica', 'ùlgica', 'úlgica', 'ûlgica', 'çlgica', 'lagica', 'lbgica', 'lcgica', 'ldgica', 'legica', 'lfgica', 'lggica', 'lhgica', 'ligica', 'ljgica', 'lkgica', 'llgica', 'lmgica', 'lngica', 'logica', 'lpgica', 'lqgica', 'lrgica', 'lsgica', 'ltgica', 'lugica', 'lvgica', 'lwgica', 'lxgica', 'lygica', 'lzgica', 'làgica', 'lágica', 'lâgica', 'lãgica', 'lègica', 'légica', 'lêgica', 'lìgica', 'lígica', 'lîgica', 'lògica', 'lógica', 'lôgica', 'lõgica', 'lùgica', 'lúgica', 'lûgica', 'lçgica', 'lgaica', 'lgbica', 'lgcica', 'lgdica', 'lgeica', 'lgfica', 'lggica', 'lghica', 'lgiica', 'lgjica', 'lgkica', 'lglica', 'lgmica', 'lgnica', 'lgoica', 'lgpica', 'lgqica', 'lgrica', 'lgsica', 'lgtica', 'lguica', 'lgvica', 'lgwica', 'lgxica', 'lgyica', 'lgzica', 'lgàica', 'lgáica', 'lgâica', 'lgãica', 'lgèica', 'lgéica', 'lgêica', 'lgìica', 'lgíica', 'lgîica', 'lgòica', 'lgóica', 'lgôica', 'lgõica', 'lgùica', 'lgúica', 'lgûica', 'lgçica', 'lgiaca', 'lgibca', 'lgicca', 'lgidca', 'lgieca', 'lgifca', 'lgigca', 'lgihca', 'lgiica', 'lgijca', 'lgikca', 'lgilca', 'lgimca', 'lginca', 'lgioca', 'lgipca', 'lgiqca', 'lgirca', 'lgisca', 'lgitca', 'lgiuca', 'lgivca', 'lgiwca', 'lgixca', 'lgiyca', 'lgizca', 'lgiàca', 'lgiáca', 'lgiâca', 'lgiãca', 'lgièca', 'lgiéca', 'lgiêca', 'lgiìca', 'lgiíca', 'lgiîca', 'lgiòca', 'lgióca', 'lgiôca', 'lgiõca', 'lgiùca', 'lgiúca', 'lgiûca', 'lgiçca', 'lgicaa', 'lgicba', 'lgicca', 'lgicda', 'lgicea', 'lgicfa', 'lgicga', 'lgicha', 'lgicia', 'lgicja', 'lgicka', 'lgicla', 'lgicma', 'lgicna', 'lgicoa', 'lgicpa', 'lgicqa', 'lgicra', 'lgicsa', 'lgicta', 'lgicua', 'lgicva', 'lgicwa', 'lgicxa', 'lgicya', 'lgicza', 'lgicàa', 'lgicáa', 'lgicâa', 'lgicãa', 'lgicèa', 'lgicéa', 'lgicêa', 'lgicìa', 'lgicía', 'lgicîa', 'lgicòa', 'lgicóa', 'lgicôa', 'lgicõa', 'lgicùa', 'lgicúa', 'lgicûa', 'lgicça', 'lgicaa', 'lgicab', 'lgicac', 'lgicad', 'lgicae', 'lgicaf', 'lgicag', 'lgicah', 'lgicai', 'lgicaj', 'lgicak', 'lgical', 'lgicam', 'lgican', 'lgicao', 'lgicap', 'lgicaq', 'lgicar', 'lgicas', 'lgicat', 'lgicau', 'lgicav', 'lgicaw', 'lgicax', 'lgicay', 'lgicaz', 'lgicaà', 'lgicaá', 'lgicaâ', 'lgicaã', 'lgicaè', 'lgicaé', 'lgicaê', 'lgicaì', 'lgicaí', 'lgicaî', 'lgicaò', 'lgicaó', 'lgicaô', 'lgicaõ', 'lgicaù', 'lgicaú', 'lgicaû', 'lgicaç', 'gica', 'lica', 'lgca', 'lgia', 'lgic', 'lgica', 'agica', 'bgica', 'cgica', 'dgica', 'egica', 'fgica', 'ggica', 'hgica', 'igica', 'jgica', 'kgica', 'lgica', 'mgica', 'ngica', 'ogica', 'pgica', 'qgica', 'rgica', 'sgica', 'tgica', 'ugica', 'vgica', 'wgica', 'xgica', 'ygica', 'zgica', 'àgica', 'ágica', 'âgica', 'ãgica', 'ègica', 'égica', 'êgica', 'ìgica', 'ígica', 'îgica', 'ògica', 'ógica', 'ôgica', 'õgica', 'ùgica', 'úgica', 'ûgica', 'çgica', 'laica', 'lbica', 'lcica', 'ldica', 'leica', 'lfica', 'lgica', 'lhica', 'liica', 'ljica', 'lkica', 'llica', 'lmica', 'lnica', 'loica', 'lpica', 'lqica', 'lrica', 'lsica', 'ltica', 'luica', 'lvica', 'lwica', 'lxica', 'lyica', 'lzica', 'làica', 'láica', 'lâica', 'lãica', 'lèica', 'léica', 'lêica', 'lìica', 'líica', 'lîica', 'lòica', 'lóica', 'lôica', 'lõica', 'lùica', 'lúica', 'lûica', 'lçica', 'lgaca', 'lgbca', 'lgcca', 'lgdca', 'lgeca', 'lgfca', 'lggca', 'lghca', 'lgica', 'lgjca', 'lgkca', 'lglca', 'lgmca', 'lgnca', 'lgoca', 'lgpca', 'lgqca', 'lgrca', 'lgsca', 'lgtca', 'lguca', 'lgvca', 'lgwca', 'lgxca', 'lgyca', 'lgzca', 'lgàca', 'lgáca', 'lgâca', 'lgãca', 'lgèca', 'lgéca', 'lgêca', 'lgìca', 'lgíca', 'lgîca', 'lgòca', 'lgóca', 'lgôca', 'lgõca', 'lgùca', 'lgúca', 'lgûca', 'lgçca', 'lgiaa', 'lgiba', 'lgica', 'lgida', 'lgiea', 'lgifa', 'lgiga', 'lgiha', 'lgiia', 'lgija', 'lgika', 'lgila', 'lgima', 'lgina', 'lgioa', 'lgipa', 'lgiqa', 'lgira', 'lgisa', 'lgita', 'lgiua', 'lgiva', 'lgiwa', 'lgixa', 'lgiya', 'lgiza', 'lgiàa', 'lgiáa', 'lgiâa', 'lgiãa', 'lgièa', 'lgiéa', 'lgiêa', 'lgiìa', 'lgiía', 'lgiîa', 'lgiòa', 'lgióa', 'lgiôa', 'lgiõa', 'lgiùa', 'lgiúa', 'lgiûa', 'lgiça', 'lgica', 'lgicb', 'lgicc', 'lgicd', 'lgice', 'lgicf', 'lgicg', 'lgich', 'lgici', 'lgicj', 'lgick', 'lgicl', 'lgicm', 'lgicn', 'lgico', 'lgicp', 'lgicq', 'lgicr', 'lgics', 'lgict', 'lgicu', 'lgicv', 'lgicw', 'lgicx', 'lgicy', 'lgicz', 'lgicà', 'lgicá', 'lgicâ', 'lgicã', 'lgicè', 'lgicé', 'lgicê', 'lgicì', 'lgicí', 'lgicî', 'lgicò', 'lgicó', 'lgicô', 'lgicõ', 'lgicù', 'lgicú', 'lgicû', 'lgicç', 'lgicaa', 'lgicab', 'lgicac', 'lgicad', 'lgicae', 'lgicaf', 'lgicag', 'lgicah', 'lgicai', 'lgicaj', 'lgicak', 'lgical', 'lgicam', 'lgican', 'lgicao', 'lgicap', 'lgicaq', 'lgicar', 'lgicas', 'lgicat', 'lgicau', 'lgicav', 'lgicaw', 'lgicax', 'lgicay', 'lgicaz', 'lgicaà', 'lgicaá', 'lgicaâ', 'lgicaã', 'lgicaè', 'lgicaé', 'lgicaê', 'lgicaì', 'lgicaí', 'lgicaî', 'lgicaò', 'lgicaó', 'lgicaô', 'lgicaõ', 'lgicaù', 'lgicaú', 'lgicaû', 'lgicaç', 'glica', 'ligca', 'lgcia', 'lgiac']\n"
     ]
    }
   ],
   "metadata": {}
  },
  {
   "cell_type": "code",
   "execution_count": 31,
   "source": [
    "avaliador(lista_teste)"
   ],
   "outputs": [
    {
     "output_type": "stream",
     "name": "stdout",
     "text": [
      "taxa de acerto: 76.34% de acertos em um total de 186 palavras\n"
     ]
    }
   ],
   "metadata": {}
  },
  {
   "cell_type": "code",
   "execution_count": 32,
   "source": [
    "def avaliador(testes,vocabulario):\r\n",
    "    numero_palavras = len(testes)\r\n",
    "    acertou = 0\r\n",
    "    desconhecida = 0\r\n",
    "    for correta, errada in testes:\r\n",
    "        palavra_corrigida = corretor(errada)\r\n",
    "        if palavra_corrigida == correta:\r\n",
    "            acertou+=1\r\n",
    "        else:\r\n",
    "            desconhecida += (correta not in vocabulario)\r\n",
    "            \r\n",
    "    taxa_acerto = acertou/numero_palavras\r\n",
    "    taxa_desconhecida = desconhecida/numero_palavras\r\n",
    "    print(f\"taxa de acerto: {round(taxa_acerto * 100,2)}% de acertos em um total de {numero_palavras} palavras\")\r\n",
    "    print(f\"taxa de palavras desconhecidas: {round(taxa_desconhecida * 100,2)}% de palavras desconhecidas em um total de {numero_palavras} palavras\")\r\n",
    "\r\n",
    "vocabulario = set(palavras_normalizada)\r\n",
    "avaliador(lista_teste, vocabulario)"
   ],
   "outputs": [
    {
     "output_type": "stream",
     "name": "stdout",
     "text": [
      "taxa de acerto: 76.34% de acertos em um total de 186 palavras\n",
      "taxa de palavras desconhecidas: 6.99% de palavras desconhecidas em um total de 186 palavras\n"
     ]
    }
   ],
   "metadata": {}
  },
  {
   "cell_type": "code",
   "execution_count": 33,
   "source": [
    "palavra = 'lóiigica'\r\n",
    "def gerador_turbinado(palavras_geradas):\r\n",
    "    novas_palavras = []\r\n",
    "    for palavra in palavras_geradas:\r\n",
    "        novas_palavras += gerador_palavras(palavra)\r\n",
    "    return novas_palavras\r\n",
    "\r\n",
    "palavras_g = gerador_turbinado(gerador_palavras(palavra))\r\n",
    "\"lógica\" in palavras_g"
   ],
   "outputs": [
    {
     "output_type": "execute_result",
     "data": {
      "text/plain": [
       "True"
      ]
     },
     "metadata": {},
     "execution_count": 33
    }
   ],
   "metadata": {}
  },
  {
   "cell_type": "code",
   "execution_count": 35,
   "source": [
    "def novo_corretor(palavra):\r\n",
    "    palavras_geradas = gerador_palavras(palavra)\r\n",
    "    palavras_turbinado = gerador_turbinado(palavras_geradas)\r\n",
    "    todas_palavras = set(palavras_geradas + palavras_turbinado)\r\n",
    "    candidatos = [palavra]\r\n",
    "    for palavra in todas_palavras:\r\n",
    "        if palavra in vocabulario:\r\n",
    "            candidatos.append(palavra)\r\n",
    "    palavra_correta = max(candidatos, key=probabilidade)\r\n",
    "    return palavra_correta\r\n",
    "\r\n",
    "novo_corretor(palavra)"
   ],
   "outputs": [
    {
     "output_type": "execute_result",
     "data": {
      "text/plain": [
       "'lógica'"
      ]
     },
     "metadata": {},
     "execution_count": 35
    }
   ],
   "metadata": {}
  },
  {
   "cell_type": "code",
   "execution_count": 38,
   "source": [
    "def avaliador(testes,vocabulario):\r\n",
    "    numero_palavras = len(testes)\r\n",
    "    acertou = 0\r\n",
    "    desconhecida = 0\r\n",
    "    for correta, errada in testes:\r\n",
    "        palavra_corrigida = novo_corretor(errada)\r\n",
    "        desconhecida += (correta not in vocabulario)\r\n",
    "        if palavra_corrigida == correta:\r\n",
    "            acertou+=1\r\n",
    "    taxa_acerto = acertou/numero_palavras\r\n",
    "    taxa_desconhecida = desconhecida/numero_palavras\r\n",
    "    print(f\"taxa de acerto: {round(taxa_acerto * 100,2)}% de acertos em um total de {numero_palavras} palavras\")\r\n",
    "    print(f\"taxa de palavras desconhecidas: {round(taxa_desconhecida * 100,2)}% de palavras desconhecidas em um total de {numero_palavras} palavras\")\r\n",
    "\r\n",
    "vocabulario = set(palavras_normalizada)\r\n",
    "avaliador(lista_teste, vocabulario)"
   ],
   "outputs": [
    {
     "output_type": "stream",
     "name": "stdout",
     "text": [
      "taxa de acerto: 55.38% de acertos em um total de 186 palavras\n",
      "taxa de palavras desconhecidas: 6.99% de palavras desconhecidas em um total de 186 palavras\n"
     ]
    }
   ],
   "metadata": {}
  },
  {
   "cell_type": "code",
   "execution_count": 39,
   "source": [
    "def avaliador(testes,vocabulario):\r\n",
    "    numero_palavras = len(testes)\r\n",
    "    acertou = 0\r\n",
    "    desconhecida = 0\r\n",
    "    for correta, errada in testes:\r\n",
    "        palavra_corrigida = corretor(errada)\r\n",
    "        desconhecida += (correta not in vocabulario)\r\n",
    "        if palavra_corrigida == correta:\r\n",
    "            acertou+=1\r\n",
    "    taxa_acerto = acertou/numero_palavras\r\n",
    "    taxa_desconhecida = desconhecida/numero_palavras\r\n",
    "    print(f\"taxa de acerto: {round(taxa_acerto * 100,2)}% de acertos em um total de {numero_palavras} palavras\")\r\n",
    "    print(f\"taxa de palavras desconhecidas: {round(taxa_desconhecida * 100,2)}% de palavras desconhecidas em um total de {numero_palavras} palavras\")\r\n",
    "\r\n",
    "vocabulario = set(palavras_normalizada)\r\n",
    "avaliador(lista_teste, vocabulario)"
   ],
   "outputs": [
    {
     "output_type": "stream",
     "name": "stdout",
     "text": [
      "taxa de acerto: 76.34% de acertos em um total de 186 palavras\n",
      "taxa de palavras desconhecidas: 6.99% de palavras desconhecidas em um total de 186 palavras\n"
     ]
    }
   ],
   "metadata": {}
  },
  {
   "cell_type": "code",
   "execution_count": 42,
   "source": [
    "palavra = 'testndo'\r\n",
    "print(novo_corretor(palavra))\r\n",
    "print(corretor(palavra))"
   ],
   "outputs": [
    {
     "output_type": "stream",
     "name": "stdout",
     "text": [
      "estudo\n",
      "testando\n"
     ]
    }
   ],
   "metadata": {}
  }
 ],
 "metadata": {
  "orig_nbformat": 4,
  "language_info": {
   "name": "python",
   "version": "3.9.5",
   "mimetype": "text/x-python",
   "codemirror_mode": {
    "name": "ipython",
    "version": 3
   },
   "pygments_lexer": "ipython3",
   "nbconvert_exporter": "python",
   "file_extension": ".py"
  },
  "kernelspec": {
   "name": "python3",
   "display_name": "Python 3.9.5 64-bit"
  },
  "interpreter": {
   "hash": "ca6c4bbe985fe75590f4a6af52b75865fae967e4902bc2cf05aef7c9c9fcd27d"
  }
 },
 "nbformat": 4,
 "nbformat_minor": 2
}